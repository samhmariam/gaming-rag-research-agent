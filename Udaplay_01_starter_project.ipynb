{
 "cells": [
  {
   "cell_type": "markdown",
   "id": "6fdd0bcb",
   "metadata": {},
   "source": [
    "# Udaplay Project"
   ]
  },
  {
   "cell_type": "markdown",
   "id": "9325b035",
   "metadata": {},
   "source": [
    "## Part 01 - Offline RAG\n",
    "\n",
    "In this part of the project, you'll build your VectorDB using Chroma.\n",
    "\n",
    "The data is inside folder `/games`. Each file will become a document in the collection you'll create.\n",
    "Example.:\n",
    "```json\n",
    "{\n",
    "  \"Name\": \"Gran Turismo\",\n",
    "  \"Platform\": \"PlayStation 1\",\n",
    "  \"Genre\": \"Racing\",\n",
    "  \"Publisher\": \"Sony Computer Entertainment\",\n",
    "  \"Description\": \"A realistic racing simulator featuring a wide array of cars and tracks, setting a new standard for the genre.\",\n",
    "  \"YearOfRelease\": 1997\n",
    "}\n",
    "```\n"
   ]
  },
  {
   "cell_type": "markdown",
   "id": "2b42de90",
   "metadata": {},
   "source": [
    "### Setup"
   ]
  },
  {
   "cell_type": "code",
   "execution_count": 2,
   "id": "a8d56169",
   "metadata": {},
   "outputs": [],
   "source": [
    "import os\n",
    "import json\n",
    "import chromadb\n",
    "from chromadb.utils import embedding_functions\n",
    "from dotenv import load_dotenv"
   ]
  },
  {
   "cell_type": "code",
   "execution_count": 4,
   "id": "87e465d4",
   "metadata": {},
   "outputs": [],
   "source": [
    "# Load environment variables\n",
    "load_dotenv()\n",
    "OPENAI_API_KEY = os.getenv(\"OPENAI_API_KEY\")\n",
    "if OPENAI_API_KEY is None:\n",
    "    raise ValueError(\"OPENAI_API_KEY environment variable not set\")\n"
   ]
  },
  {
   "cell_type": "markdown",
   "id": "27de4729",
   "metadata": {},
   "source": [
    "### VectorDB Instance"
   ]
  },
  {
   "cell_type": "code",
   "execution_count": 5,
   "id": "b25c36dd",
   "metadata": {},
   "outputs": [],
   "source": [
    "# Instantiate your ChromaDB Client\n",
    "chroma_client = chromadb.PersistentClient(path=\"chromadb\")"
   ]
  },
  {
   "cell_type": "markdown",
   "id": "df844b3b",
   "metadata": {},
   "source": [
    "### Collection"
   ]
  },
  {
   "cell_type": "code",
   "execution_count": 6,
   "id": "31c56281",
   "metadata": {},
   "outputs": [],
   "source": [
    "# OpenAI embedding function\n",
    "embedding_fn = embedding_functions.OpenAIEmbeddingFunction(\n",
    "    api_key=OPENAI_API_KEY\n",
    ")"
   ]
  },
  {
   "cell_type": "code",
   "execution_count": 7,
   "id": "0ec23893",
   "metadata": {},
   "outputs": [],
   "source": [
    "# Create a collection\n",
    "collection = chroma_client.create_collection(\n",
    "    name=\"udaplay\",\n",
    "    embedding_function=embedding_fn\n",
    ")"
   ]
  },
  {
   "cell_type": "markdown",
   "id": "f0a55081",
   "metadata": {},
   "source": [
    "### Add documents"
   ]
  },
  {
   "cell_type": "code",
   "execution_count": 8,
   "id": "eb83fbb1",
   "metadata": {},
   "outputs": [],
   "source": [
    "# Make sure you have a directory \"project/starter/games\"\n",
    "data_dir = \"games\"\n",
    "\n",
    "for file_name in sorted(os.listdir(data_dir)):\n",
    "    if not file_name.endswith(\".json\"):\n",
    "        continue\n",
    "\n",
    "    file_path = os.path.join(data_dir, file_name)\n",
    "    with open(file_path, \"r\", encoding=\"utf-8\") as f:\n",
    "        game = json.load(f)\n",
    "\n",
    "    # You can change what text you want to index\n",
    "    content = f\"[{game['Platform']}] {game['Name']} ({game['YearOfRelease']}) - {game['Description']}\"\n",
    "\n",
    "    # Use file name (like 001) as ID\n",
    "    doc_id = os.path.splitext(file_name)[0]\n",
    "\n",
    "    collection.add(\n",
    "        ids=[doc_id],\n",
    "        documents=[content],\n",
    "        metadatas=[game]\n",
    "    )"
   ]
  },
  {
   "cell_type": "code",
   "execution_count": 10,
   "id": "0bcba2f6",
   "metadata": {},
   "outputs": [
    {
     "name": "stdout",
     "output_type": "stream",
     "text": [
      "Collection count: 15\n",
      "Collection name: udaplay\n",
      "\n",
      "Sample document ID: 001\n",
      "Sample content: [PlayStation 1] Gran Turismo (1997) - A realistic racing simulator featuring a wide array of cars and tracks, setting a new standard for the genre.\n",
      "Sample metadata: {'Name': 'Gran Turismo', 'Genre': 'Racing', 'Platform': 'PlayStation 1', 'Publisher': 'Sony Computer Entertainment', 'Description': 'A realistic racing simulator featuring a wide array of cars and tracks, setting a new standard for the genre.', 'YearOfRelease': 1997}\n"
     ]
    }
   ],
   "source": [
    "# Verify the documents were added\n",
    "print(f\"Collection count: {collection.count()}\")\n",
    "print(f\"Collection name: {collection.name}\")\n",
    "\n",
    "# Get a sample document to verify\n",
    "sample = collection.get(limit=1, include=[\"documents\", \"metadatas\"])\n",
    "if sample[\"ids\"]:\n",
    "    print(f\"\\nSample document ID: {sample['ids'][0]}\")\n",
    "    print(f\"Sample content: {sample['documents'][0]}\")\n",
    "    print(f\"Sample metadata: {sample['metadatas'][0]}\")"
   ]
  },
  {
   "cell_type": "markdown",
   "id": "35f476b7",
   "metadata": {},
   "source": [
    "### Semantic Search Demo"
   ]
  },
  {
   "cell_type": "code",
   "execution_count": 11,
   "id": "754b5cc0",
   "metadata": {},
   "outputs": [
    {
     "name": "stdout",
     "output_type": "stream",
     "text": [
      "================================================================================\n",
      "🔍 Search Query: 'racing games with realistic driving simulation'\n",
      "📊 Found 3 results:\n",
      "\n",
      "🎮 Result 1 (Similarity: 0.760)\n",
      "   Game: Gran Turismo\n",
      "   Platform: PlayStation 1\n",
      "   Genre: Racing\n",
      "   Year: 1997\n",
      "   Description: A realistic racing simulator featuring a wide array of cars and tracks, setting a new standard for the genre.\n",
      "   Document ID: 001\n",
      "--------------------------------------------------------------------------------\n",
      "🎮 Result 2 (Similarity: 0.750)\n",
      "   Game: Gran Turismo 5\n",
      "   Platform: PlayStation 3\n",
      "   Genre: Racing\n",
      "   Year: 2010\n",
      "   Description: A comprehensive racing simulator featuring a vast selection of vehicles and tracks, with realistic driving physics.\n",
      "   Document ID: 003\n",
      "--------------------------------------------------------------------------------\n",
      "🎮 Result 3 (Similarity: 0.602)\n",
      "   Game: Mario Kart 8 Deluxe\n",
      "   Platform: Nintendo Switch\n",
      "   Genre: Racing\n",
      "   Year: 2017\n",
      "   Description: An enhanced version of Mario Kart 8, featuring new characters, tracks, and improved gameplay mechanics.\n",
      "   Document ID: 012\n",
      "--------------------------------------------------------------------------------\n",
      "\n",
      "================================================================================\n",
      "🔍 Search Query: 'retro console games from the 90s'\n",
      "📊 Found 3 results:\n",
      "\n",
      "🎮 Result 1 (Similarity: 0.620)\n",
      "   Game: Super Mario 64\n",
      "   Platform: Nintendo 64\n",
      "   Genre: Platformer\n",
      "   Year: 1996\n",
      "   Description: A groundbreaking 3D platformer that set new standards for the genre, featuring Mario's quest to rescue Princess Peach.\n",
      "   Document ID: 009\n",
      "--------------------------------------------------------------------------------\n",
      "🎮 Result 2 (Similarity: 0.620)\n",
      "   Game: Super Mario World\n",
      "   Platform: Super Nintendo Entertainment System (SNES)\n",
      "   Genre: Platformer\n",
      "   Year: 1990\n",
      "   Description: A classic platformer where Mario embarks on a quest to save Princess Toadstool and Dinosaur Land from Bowser.\n",
      "   Document ID: 008\n",
      "--------------------------------------------------------------------------------\n",
      "🎮 Result 3 (Similarity: 0.602)\n",
      "   Game: Gran Turismo\n",
      "   Platform: PlayStation 1\n",
      "   Genre: Racing\n",
      "   Year: 1997\n",
      "   Description: A realistic racing simulator featuring a wide array of cars and tracks, setting a new standard for the genre.\n",
      "   Document ID: 001\n",
      "--------------------------------------------------------------------------------\n",
      "\n",
      "================================================================================\n",
      "🔍 Search Query: 'action adventure games with exploration'\n",
      "📊 Found 3 results:\n",
      "\n",
      "🎮 Result 1 (Similarity: 0.630)\n",
      "   Game: Kinect Adventures!\n",
      "   Platform: Xbox 360\n",
      "   Genre: Party\n",
      "   Year: 2010\n",
      "   Description: A collection of mini-games designed to showcase the capabilities of the Kinect motion sensor.\n",
      "   Document ID: 013\n",
      "--------------------------------------------------------------------------------\n",
      "🎮 Result 2 (Similarity: 0.620)\n",
      "   Game: Minecraft\n",
      "   Platform: Xbox One\n",
      "   Genre: Sandbox, Survival\n",
      "   Year: 2014\n",
      "   Description: A sandbox game that allows players to build and explore infinite worlds, fostering creativity and adventure.\n",
      "   Document ID: 014\n",
      "--------------------------------------------------------------------------------\n",
      "🎮 Result 3 (Similarity: 0.590)\n",
      "   Game: Super Mario 64\n",
      "   Platform: Nintendo 64\n",
      "   Genre: Platformer\n",
      "   Year: 1996\n",
      "   Description: A groundbreaking 3D platformer that set new standards for the genre, featuring Mario's quest to rescue Princess Peach.\n",
      "   Document ID: 009\n",
      "--------------------------------------------------------------------------------\n"
     ]
    }
   ],
   "source": [
    "# Demonstrate semantic search capabilities\n",
    "def search_games(query, n_results=3):\n",
    "    \"\"\"\n",
    "    Search for games using semantic similarity\n",
    "    \"\"\"\n",
    "    results = collection.query(\n",
    "        query_texts=[query],\n",
    "        n_results=n_results,\n",
    "        include=[\"documents\", \"metadatas\", \"distances\"]\n",
    "    )\n",
    "    \n",
    "    print(f\"🔍 Search Query: '{query}'\")\n",
    "    print(f\"📊 Found {len(results['ids'][0])} results:\\n\")\n",
    "    \n",
    "    for i, (doc_id, document, metadata, distance) in enumerate(zip(\n",
    "        results['ids'][0], \n",
    "        results['documents'][0], \n",
    "        results['metadatas'][0], \n",
    "        results['distances'][0]\n",
    "    )):\n",
    "        print(f\"🎮 Result {i+1} (Similarity: {1-distance:.3f})\")\n",
    "        print(f\"   Game: {metadata['Name']}\")\n",
    "        print(f\"   Platform: {metadata['Platform']}\")\n",
    "        print(f\"   Genre: {metadata['Genre']}\")\n",
    "        print(f\"   Year: {metadata['YearOfRelease']}\")\n",
    "        print(f\"   Description: {metadata['Description']}\")\n",
    "        print(f\"   Document ID: {doc_id}\")\n",
    "        print(\"-\" * 80)\n",
    "\n",
    "# Test different types of semantic searches\n",
    "print(\"=\" * 80)\n",
    "search_games(\"racing games with realistic driving simulation\")\n",
    "\n",
    "print(\"\\n\" + \"=\" * 80)\n",
    "search_games(\"retro console games from the 90s\")\n",
    "\n",
    "print(\"\\n\" + \"=\" * 80)\n",
    "search_games(\"action adventure games with exploration\")"
   ]
  },
  {
   "cell_type": "code",
   "execution_count": null,
   "id": "c0bd2dea",
   "metadata": {},
   "outputs": [],
   "source": []
  }
 ],
 "metadata": {
  "kernelspec": {
   "display_name": "gaming-rag-research-agent",
   "language": "python",
   "name": "python3"
  },
  "language_info": {
   "codemirror_mode": {
    "name": "ipython",
    "version": 3
   },
   "file_extension": ".py",
   "mimetype": "text/x-python",
   "name": "python",
   "nbconvert_exporter": "python",
   "pygments_lexer": "ipython3",
   "version": "3.11.13"
  }
 },
 "nbformat": 4,
 "nbformat_minor": 5
}
